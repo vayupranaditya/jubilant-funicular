{
 "cells": [
  {
   "cell_type": "code",
   "execution_count": 3,
   "metadata": {},
   "outputs": [],
   "source": [
    "import json\n",
    "import numpy\n",
    "import math"
   ]
  },
  {
   "cell_type": "code",
   "execution_count": 29,
   "metadata": {},
   "outputs": [],
   "source": [
    "# isi data-dictionary.json \n",
    "\n",
    "#{\n",
    "# \t\"p\" : 4,\n",
    "# \t\"b\" : 8192,\n",
    "# \t\"pegawai\" : {\n",
    "# \t\t\"tabel\" : [\"no_ktp\", \"tgl_lahir\", \"gender\", \"pendidikan\"],\n",
    "# \t\t\"r\" : 128,\n",
    "# \t\t\"n\" : 10000,\n",
    "# \t\t\"v\" : 12,\n",
    "# \t\t\"br\" : 10000\n",
    "# \t},\n",
    "# \t\"dirawat\" : {\n",
    "# \t\t\"tabel\" : [\"tgl_dirawat\", \"status\", \"periode\", \"no_inventaris\", \"no_ktp\"],\n",
    "# \t\t\"r\" : 8,\n",
    "# \t\t\"n\" : 150,\n",
    "# \t\t\"v\" : 6,\n",
    "# \t\t\"br\" : 1000\n",
    "# \t},\n",
    "# \t\"fasilitas\" : {\n",
    "# \t\t\"tabel\" : [\"no_inventaris\", \"nama\", \"jenis\", \"tgl_dibeli\", \"pemakaian\"],\n",
    "# \t\t\"r\" : 10,\n",
    "# \t\t\"n\" : 1000,\n",
    "# \t\t\"v\" : 7,\n",
    "# \t\t\"br\" : 1000\n",
    "# \t}\n",
    "# }"
   ]
  },
  {
   "cell_type": "code",
   "execution_count": 30,
   "metadata": {},
   "outputs": [],
   "source": [
    "# read file\n",
    "def readFile(name):\n",
    "\twith open(name) as json_file:\n",
    "\t\treturn json.load(json_file)\n",
    "\n",
    "data = readFile('data-dictionary.json')"
   ]
  },
  {
   "cell_type": "code",
   "execution_count": 31,
   "metadata": {},
   "outputs": [],
   "source": [
    "def fanoutRasio(tab):\n",
    "    return math.floor(data['b'] / (data[tab]['v'] + data['p']))\n",
    "\n",
    "def blockingFactor(tab):\n",
    "    return math.floor(data['b'] / data[tab]['r'])\n",
    "\n",
    "def jumBlokIndeks(r, t):\n",
    "    if (r>data[t]['n']):\n",
    "        return 'record tidak tersedia'\n",
    "    else :\n",
    "        fanout = fanoutRasio(t)\n",
    "        return math.ceil(r / fanout)\n",
    "\n",
    "def jumBlokNonIndeks(r, t):\n",
    "    if (r>data[t]['n']):\n",
    "        return 'record tidak tersedia'\n",
    "    else :\n",
    "        bfr = blockingFactor(t)\n",
    "        return math.ceil(r / bfr)\n",
    "    \n",
    "def totalBlokData(tab):\n",
    "    return math.ceil(data[tab]['n'] / blockingFactor(tab))\n",
    "\n",
    "def totalBlokIndeks(tab):\n",
    "    return math.ceil(data[tab]['n'] / fanoutRasio(tab))"
   ]
  },
  {
   "cell_type": "code",
   "execution_count": 32,
   "metadata": {},
   "outputs": [],
   "source": [
    "def menuSatu():\n",
    "    print('Menu 1 : BFR dan Fan Out Ratio')\n",
    "    print('')\n",
    "    \n",
    "    print('BFR Pegawai : ', blockingFactor('pegawai'))\n",
    "    print('Fan Out Rasio Pegawai : ', fanoutRasio('pegawai'))\n",
    "    \n",
    "    print('BFR Dirawat : ', blockingFactor('dirawat'))\n",
    "    print('Fan Out Rasio Dirawat : ', fanoutRasio('dirawat'))\n",
    "    \n",
    "    print('BFR Fasilitas : ', blockingFactor('fasilitas'))\n",
    "    print('Fan Out Rasio Fasilitas : ', fanoutRasio('fasilitas'))\n",
    "    print('')\n",
    "\n",
    "def menuDua():\n",
    "    print('Menu 2 : Jumlah Blok')\n",
    "    print('')\n",
    "    \n",
    "    print('Tabel Data Pegawai :', totalBlokData('pegawai'), ' blok')\n",
    "    print('Indeks Pegawai :', totalBlokIndeks('pegawai'), ' blok')\n",
    "    \n",
    "    print('Tabel Data Pegawai :', totalBlokData('dirawat'), ' blok')\n",
    "    print('Indeks Pegawai :', totalBlokIndeks('dirawat'), ' blok')\n",
    "    \n",
    "    print('Tabel Data Pegawai :', totalBlokData('fasilitas'), ' blok')\n",
    "    print('Indeks Pegawai :', totalBlokIndeks('fasilitas'), ' blok')\n",
    "    \n",
    "def menuTiga():\n",
    "    print('Menu 3 : Pencarian Rekord')\n",
    "    print('')\n",
    "    rekord = int(input(\"Cari Rekord ke : \"))\n",
    "    tabel = input(\"Nama Tabel : \")\n",
    "\n",
    "    blok_i = jumBlokIndeks(rekord, tabel)\n",
    "\n",
    "    print ('Menggunakan indeks, jumlah blok yang diakses : ', blok_i)\n",
    "    print ('Tanpa indeks, jumlah blok yang diakses : ', jumBlokNonIndeks(rekord, tabel))"
   ]
  },
  {
   "cell_type": "code",
   "execution_count": 27,
   "metadata": {},
   "outputs": [
    {
     "name": "stdout",
     "output_type": "stream",
     "text": [
      "Menu 1 : BFR dan Fan Out Ratio\n",
      "\n",
      "BFR Pegawai :  64\n",
      "Fan Out Rasio Pegawai :  512\n",
      "BFR Dirawat :  1024\n",
      "Fan Out Rasio Dirawat :  819\n",
      "BFR Fasilitas :  819\n",
      "Fan Out Rasio Fasilitas :  744\n",
      "\n",
      "Menu 2 : Jumlah Blok\n",
      "\n",
      "Tabel Data Pegawai : 157  blok\n",
      "Indeks Pegawai : 20  blok\n",
      "Tabel Data Pegawai : 1  blok\n",
      "Indeks Pegawai : 1  blok\n",
      "Tabel Data Pegawai : 2  blok\n",
      "Indeks Pegawai : 2  blok\n",
      "Menu 3 : Pencarian Rekord\n",
      "\n",
      "Cari Rekord ke : 1243\n",
      "Nama Tabel : pegawai\n",
      "Menggunakan indeks, jumlah blok yang diakses :  3\n",
      "Tanpa indeks, jumlah blok yang diakses :  20\n"
     ]
    }
   ],
   "source": [
    "menuSatu()\n",
    "menuDua()\n",
    "menuTiga()"
   ]
  },
  {
   "cell_type": "code",
   "execution_count": 35,
   "metadata": {},
   "outputs": [
    {
     "name": "stdout",
     "output_type": "stream",
     "text": [
      "Menu 4 : QEP dan COST\n",
      "\n",
      "PROJECTION ['no_inventaris', 'nama'] , ['no_inventaris', 'nama']\n",
      "SELECTION ['no_inventaris = 1']\n",
      "['fasilitas']\n"
     ]
    },
    {
     "ename": "TypeError",
     "evalue": "unhashable type: 'list'",
     "output_type": "error",
     "traceback": [
      "\u001b[1;31m---------------------------------------------------------------------------\u001b[0m",
      "\u001b[1;31mTypeError\u001b[0m                                 Traceback (most recent call last)",
      "\u001b[1;32m<ipython-input-35-d2f1407c5367>\u001b[0m in \u001b[0;36m<module>\u001b[1;34m()\u001b[0m\n\u001b[0;32m     43\u001b[0m \u001b[0mprint\u001b[0m\u001b[1;33m(\u001b[0m\u001b[0mqep\u001b[0m\u001b[1;33m(\u001b[0m\u001b[0marray_query\u001b[0m\u001b[1;33m)\u001b[0m\u001b[1;33m[\u001b[0m\u001b[1;34m'tabel'\u001b[0m\u001b[1;33m]\u001b[0m\u001b[1;33m)\u001b[0m\u001b[1;33m\u001b[0m\u001b[0m\n\u001b[0;32m     44\u001b[0m \u001b[1;33m\u001b[0m\u001b[0m\n\u001b[1;32m---> 45\u001b[1;33m \u001b[0mh\u001b[0m \u001b[1;33m=\u001b[0m \u001b[0mcostA1key\u001b[0m\u001b[1;33m(\u001b[0m\u001b[0marray_query\u001b[0m\u001b[1;33m[\u001b[0m\u001b[1;34m'tabel'\u001b[0m\u001b[1;33m]\u001b[0m\u001b[1;33m)\u001b[0m\u001b[1;33m\u001b[0m\u001b[0m\n\u001b[0m\u001b[0;32m     46\u001b[0m \u001b[0mprint\u001b[0m\u001b[1;33m(\u001b[0m\u001b[0mh\u001b[0m\u001b[1;33m)\u001b[0m\u001b[1;33m\u001b[0m\u001b[0m\n\u001b[0;32m     47\u001b[0m \u001b[0mprint\u001b[0m\u001b[1;33m(\u001b[0m\u001b[0mcostBNLJ\u001b[0m\u001b[1;33m(\u001b[0m\u001b[1;34m'fasilitas'\u001b[0m\u001b[1;33m,\u001b[0m\u001b[1;34m'pegawai'\u001b[0m\u001b[1;33m)\u001b[0m\u001b[1;33m)\u001b[0m\u001b[1;33m\u001b[0m\u001b[0m\n",
      "\u001b[1;32m<ipython-input-35-d2f1407c5367>\u001b[0m in \u001b[0;36mcostA1key\u001b[1;34m(t)\u001b[0m\n\u001b[0;32m     25\u001b[0m \u001b[1;33m\u001b[0m\u001b[0m\n\u001b[0;32m     26\u001b[0m \u001b[1;32mdef\u001b[0m \u001b[0mcostA1key\u001b[0m\u001b[1;33m(\u001b[0m\u001b[0mt\u001b[0m\u001b[1;33m)\u001b[0m\u001b[1;33m:\u001b[0m\u001b[1;33m\u001b[0m\u001b[0m\n\u001b[1;32m---> 27\u001b[1;33m     \u001b[1;32mreturn\u001b[0m \u001b[0mdata\u001b[0m\u001b[1;33m[\u001b[0m\u001b[0mt\u001b[0m\u001b[1;33m]\u001b[0m\u001b[1;33m[\u001b[0m\u001b[1;34m'br'\u001b[0m\u001b[1;33m]\u001b[0m\u001b[1;33m/\u001b[0m\u001b[1;36m2\u001b[0m\u001b[1;33m\u001b[0m\u001b[0m\n\u001b[0m\u001b[0;32m     28\u001b[0m \u001b[1;33m\u001b[0m\u001b[0m\n\u001b[0;32m     29\u001b[0m \u001b[1;32mdef\u001b[0m \u001b[0mcostA2\u001b[0m\u001b[1;33m(\u001b[0m\u001b[0mt\u001b[0m\u001b[1;33m)\u001b[0m\u001b[1;33m:\u001b[0m\u001b[1;33m\u001b[0m\u001b[0m\n",
      "\u001b[1;31mTypeError\u001b[0m: unhashable type: 'list'"
     ]
    }
   ],
   "source": [
    "print('Menu 4 : QEP dan COST')\n",
    "print('')\n",
    "\n",
    "#qep where\n",
    "array_query = {}\n",
    "array_query['kolom'] = ['no_inventaris','nama']\n",
    "array_query['tabel'] = ['fasilitas']\n",
    "array_query['where'] = ['no_inventaris = 1']\n",
    "def qep(query):\n",
    "    if (query['kolom'][0] != '*'):\n",
    "        return { \n",
    "            'projection' : query['kolom'],\n",
    "            'selection' : query['where'],\n",
    "            'tabel' : query['tabel']\n",
    "        }\n",
    "    else:\n",
    "        return {\n",
    "            'selection' : query['where'],\n",
    "            'tabel' : query['tabel']\n",
    "        }\n",
    "\n",
    "#cost where, diisi ya geng hehe\n",
    "def costA1nkey(t):\n",
    "    return data[t]['br']\n",
    "\n",
    "def costA1key(t):\n",
    "    return data[t]['br']/2\n",
    "\n",
    "def costA2(t):\n",
    "    return math.ceil(math.log(data[t]['br'],fanoutRasio(t))) + 1\n",
    "\n",
    "def costBNLJ(inner,outer):\n",
    "    return data[inner]['br']*data[outer]['br'] + data[outer]['br']\n",
    "\n",
    "#qep join, diisi ya geng hehe\n",
    "\n",
    "#cost join, diisi ya geng hehe\n",
    "\n",
    "#tes qep where\n",
    "if(array_query['kolom']!='*'):\n",
    "    print('PROJECTION', qep(array_query)['projection'], ',' , qep(array_query)['projection'])\n",
    "print('SELECTION', qep(array_query)['selection'])\n",
    "print(qep(array_query)['tabel'])\n",
    "\n",
    "h = costA1key(array_query['tabel'])\n",
    "print(h)\n",
    "print(costBNLJ('fasilitas','pegawai'))"
   ]
  },
  {
   "cell_type": "code",
   "execution_count": null,
   "metadata": {},
   "outputs": [],
   "source": [
    "def sharedPool:\n",
    "    "
   ]
  }
 ],
 "metadata": {
  "kernelspec": {
   "display_name": "Python 3",
   "language": "python",
   "name": "python3"
  },
  "language_info": {
   "codemirror_mode": {
    "name": "ipython",
    "version": 3
   },
   "file_extension": ".py",
   "mimetype": "text/x-python",
   "name": "python",
   "nbconvert_exporter": "python",
   "pygments_lexer": "ipython3",
   "version": "3.6.4"
  }
 },
 "nbformat": 4,
 "nbformat_minor": 2
}
