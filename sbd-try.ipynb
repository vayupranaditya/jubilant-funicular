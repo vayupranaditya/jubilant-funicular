{
 "cells": [
  {
   "cell_type": "code",
   "execution_count": 45,
   "metadata": {},
   "outputs": [],
   "source": [
    "import json\n",
    "import numpy\n",
    "import math"
   ]
  },
  {
   "cell_type": "code",
   "execution_count": 71,
   "metadata": {},
   "outputs": [],
   "source": [
    "# write file \n",
    "\n",
    "data = {} \n",
    "data['pegawai'] = []\n",
    "data['dirawat'] = []\n",
    "data['fasilitas'] = []\n",
    "data['p'] = 4\n",
    "data['b'] = 8092\n",
    "data['pegawai'].append({  \n",
    "    'tabel' : [\"no_ktp\", \"tgl_lahir\", \"gender\", \"pendidikan\"],\n",
    "    'r' : 128,\n",
    "    'n' : 100000,\n",
    "    'v' : 12,\n",
    "})\n",
    "data['dirawat'].append({  \n",
    "    'tabel' : [\"tgl_dirawat\", \"status\", \"periode\"],\n",
    "    'r' : 250,\n",
    "    'n' : 15000,\n",
    "    'v' : 6,\n",
    "})\n",
    "data['fasilitas'].append({  \n",
    "    'tabel' : [\"no_inventaris\", \"nama\", \"jenis\", \"tgl_dibeli\", \"pemakaian\"],\n",
    "    'r' : 150,\n",
    "    'n' : 12500,\n",
    "    'v' : 8,\n",
    "})\n",
    "\n",
    "with open('datatry.json', 'w') as outfile:  \n",
    "    json.dump(data, outfile)"
   ]
  },
  {
   "cell_type": "code",
   "execution_count": 72,
   "metadata": {},
   "outputs": [
    {
     "name": "stdout",
     "output_type": "stream",
     "text": [
      "['no_ktp', 'tgl_lahir', 'gender', 'pendidikan']\n"
     ]
    }
   ],
   "source": [
    "# read file\n",
    "with open('datatry.json') as json_file:  \n",
    "    data = json.load(json_file)\n",
    "\n",
    "print(data['pegawai'][0]['tabel'])"
   ]
  },
  {
   "cell_type": "code",
   "execution_count": 78,
   "metadata": {},
   "outputs": [
    {
     "name": "stdout",
     "output_type": "stream",
     "text": [
      "Menu 1 : BFR dan Fan Out Ratio\n",
      "\n",
      "BFR Pegawai :  63\n",
      "Fan Out Rasio Pegawai :  505\n",
      "BFR Pegawai :  32\n",
      "Fan Out Rasio Dirawat :  809\n",
      "BFR Pegawai :  53\n",
      "Fan Out Rasio Dirawat :  674\n"
     ]
    }
   ],
   "source": [
    "print('Menu 1 : BFR dan Fan Out Ratio')\n",
    "print('')\n",
    "\n",
    "bfr_p = math.floor(data['b'] / data['pegawai'][0]['r'])\n",
    "for_p = math.floor(data['b'] / (data['pegawai'][0]['v'] + data['p']))\n",
    "print('BFR Pegawai : ', bfr_p)\n",
    "print('Fan Out Rasio Pegawai : ', for_p)\n",
    "\n",
    "bfr_d = math.floor(data['b'] / data['dirawat'][0]['r'])\n",
    "for_d = math.floor(data['b'] / (data['dirawat'][0]['v'] + data['p']))\n",
    "print('BFR Pegawai : ', bfr_d)\n",
    "print('Fan Out Rasio Dirawat : ' , for_d)\n",
    "\n",
    "bfr_f = math.floor(data['b'] / data['fasilitas'][0]['r'])\n",
    "for_f = math.floor(data['b'] / (data['fasilitas'][0]['v'] + data['p']))\n",
    "print('BFR Pegawai : ', bfr_f)\n",
    "print('Fan Out Rasio Dirawat : ', for_f)"
   ]
  },
  {
   "cell_type": "code",
   "execution_count": 80,
   "metadata": {},
   "outputs": [
    {
     "name": "stdout",
     "output_type": "stream",
     "text": [
      "Menu 2 : Jumlah Blok\n",
      "\n",
      "Tabel Data Pegawai : 1588  blok\n",
      "Indeks Pegawai : 199  blok\n",
      "Tabel Data Dirawat : 469  blok\n",
      "Indeks Dirawat: 19  blok\n",
      "Tabel Data Fasilitas : 236  blok\n",
      "Indeks Fasilitas : 19  blok\n"
     ]
    }
   ],
   "source": [
    "print('Menu 2 : Jumlah Blok')\n",
    "print('')\n",
    "\n",
    "tabel_p = math.ceil(data['pegawai'][0]['n'] / bfr_p)\n",
    "idx_p = math.ceil(data['pegawai'][0]['n'] / for_p)\n",
    "print('Tabel Data Pegawai :', tabel_p, ' blok')\n",
    "print('Indeks Pegawai :', idx_p, ' blok')\n",
    "\n",
    "tabel_d = math.ceil(data['dirawat'][0]['n'] / bfr_d)\n",
    "idx_d = math.ceil(data['dirawat'][0]['n'] / for_d)\n",
    "print('Tabel Data Dirawat :', tabel_d, ' blok')\n",
    "print('Indeks Dirawat:', idx_d, ' blok')\n",
    "\n",
    "tabel_f = math.ceil(data['fasilitas'][0]['n'] / bfr_f)\n",
    "idx_f = math.ceil(data['fasilitas'][0]['n'] / for_f)\n",
    "print('Tabel Data Fasilitas :', tabel_f, ' blok')\n",
    "print('Indeks Fasilitas :', idx_f, ' blok')"
   ]
  },
  {
   "cell_type": "code",
   "execution_count": 5,
   "metadata": {},
   "outputs": [
    {
     "name": "stdout",
     "output_type": "stream",
     "text": [
      "Menu 3 : Pencarian Rekord\n",
      "\n",
      "Cari Rekord ke : '5\n",
      "Nama Tabel : mahasiswa\n"
     ]
    },
    {
     "ename": "NameError",
     "evalue": "name 'fanoutRasio' is not defined",
     "output_type": "error",
     "traceback": [
      "\u001b[1;31m---------------------------------------------------------------------------\u001b[0m",
      "\u001b[1;31mNameError\u001b[0m                                 Traceback (most recent call last)",
      "\u001b[1;32m<ipython-input-5-655792bd8617>\u001b[0m in \u001b[0;36m<module>\u001b[1;34m()\u001b[0m\n\u001b[0;32m     13\u001b[0m \u001b[0mtabel\u001b[0m \u001b[1;33m=\u001b[0m \u001b[0minput\u001b[0m\u001b[1;33m(\u001b[0m\u001b[1;34m\"Nama Tabel : \"\u001b[0m\u001b[1;33m)\u001b[0m\u001b[1;33m\u001b[0m\u001b[0m\n\u001b[0;32m     14\u001b[0m \u001b[1;33m\u001b[0m\u001b[0m\n\u001b[1;32m---> 15\u001b[1;33m \u001b[0mblok_i\u001b[0m \u001b[1;33m=\u001b[0m \u001b[0mjumBlokIndeks\u001b[0m\u001b[1;33m(\u001b[0m\u001b[0mrekord\u001b[0m\u001b[1;33m,\u001b[0m \u001b[0mtabel\u001b[0m\u001b[1;33m)\u001b[0m\u001b[1;33m\u001b[0m\u001b[0m\n\u001b[0m\u001b[0;32m     16\u001b[0m \u001b[1;33m\u001b[0m\u001b[0m\n\u001b[0;32m     17\u001b[0m \u001b[0mprint\u001b[0m \u001b[1;33m(\u001b[0m\u001b[1;34m'Menggunakan indeks, jumlah blok yang diakses : '\u001b[0m\u001b[1;33m,\u001b[0m \u001b[0mblok_i\u001b[0m\u001b[1;33m)\u001b[0m\u001b[1;33m\u001b[0m\u001b[0m\n",
      "\u001b[1;32m<ipython-input-5-655792bd8617>\u001b[0m in \u001b[0;36mjumBlokIndeks\u001b[1;34m(r, t)\u001b[0m\n\u001b[0;32m      3\u001b[0m \u001b[1;33m\u001b[0m\u001b[0m\n\u001b[0;32m      4\u001b[0m \u001b[1;32mdef\u001b[0m \u001b[0mjumBlokIndeks\u001b[0m\u001b[1;33m(\u001b[0m\u001b[0mr\u001b[0m\u001b[1;33m,\u001b[0m \u001b[0mt\u001b[0m\u001b[1;33m)\u001b[0m\u001b[1;33m:\u001b[0m\u001b[1;33m\u001b[0m\u001b[0m\n\u001b[1;32m----> 5\u001b[1;33m     \u001b[0mfanout\u001b[0m \u001b[1;33m=\u001b[0m \u001b[0mfanoutRasio\u001b[0m\u001b[1;33m(\u001b[0m\u001b[0mt\u001b[0m\u001b[1;33m)\u001b[0m\u001b[1;33m\u001b[0m\u001b[0m\n\u001b[0m\u001b[0;32m      6\u001b[0m     \u001b[1;32mreturn\u001b[0m \u001b[0mmath\u001b[0m\u001b[1;33m.\u001b[0m\u001b[0mceil\u001b[0m\u001b[1;33m(\u001b[0m\u001b[0mr\u001b[0m \u001b[1;33m/\u001b[0m \u001b[0mfanout\u001b[0m\u001b[1;33m)\u001b[0m\u001b[1;33m\u001b[0m\u001b[0m\n\u001b[0;32m      7\u001b[0m \u001b[1;33m\u001b[0m\u001b[0m\n",
      "\u001b[1;31mNameError\u001b[0m: name 'fanoutRasio' is not defined"
     ]
    }
   ],
   "source": [
    "print('Menu 3 : Pencarian Rekord')\n",
    "print('')\n",
    "\n",
    "def fanoutRasio(tabel)\n",
    "\n",
    "def jumBlokIndeks(r, t):\n",
    "    fanout = fanoutRasio(t)\n",
    "    return math.ceil(r / fanout)\n",
    "\n",
    "def jumBlokNonIndeks(r, t):\n",
    "    bfr = blockingFactor(t)\n",
    "    return math.ceil(r / bfr)\n",
    "\n",
    "rekord = int(input(\"Cari Rekord ke : '\"))\n",
    "tabel = input(\"Nama Tabel : \")\n",
    "\n",
    "blok_i = jumBlokIndeks(rekord, tabel)\n",
    "\n",
    "print ('Menggunakan indeks, jumlah blok yang diakses : ', blok_i)\n",
    "print ('Tanpa indeks, jumlah blok yang diakses : ', jumBlokNonIndeks(rekord, tabel))"
   ]
  },
  {
   "cell_type": "code",
   "execution_count": null,
   "metadata": {},
   "outputs": [],
   "source": []
  }
 ],
 "metadata": {
  "kernelspec": {
   "display_name": "Python 3",
   "language": "python",
   "name": "python3"
  },
  "language_info": {
   "codemirror_mode": {
    "name": "ipython",
    "version": 3
   },
   "file_extension": ".py",
   "mimetype": "text/x-python",
   "name": "python",
   "nbconvert_exporter": "python",
   "pygments_lexer": "ipython3",
   "version": "3.6.4"
  }
 },
 "nbformat": 4,
 "nbformat_minor": 2
}
