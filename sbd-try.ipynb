{
 "cells": [
  {
   "cell_type": "code",
   "execution_count": 9,
   "metadata": {},
   "outputs": [],
   "source": [
    "import json\n",
    "import numpy\n",
    "import math"
   ]
  },
  {
   "cell_type": "code",
   "execution_count": 10,
   "metadata": {},
   "outputs": [],
   "source": [
    "# write file \n",
    "\n",
    "data = {} \n",
    "data['pegawai'] = []\n",
    "data['dirawat'] = []\n",
    "data['fasilitas'] = []\n",
    "data['p'] = 4\n",
    "data['b'] = 8092\n",
    "data['pegawai'].append({  \n",
    "    'tabel' : [\"no_ktp\", \"tgl_lahir\", \"gender\", \"pendidikan\"],\n",
    "    'r' : 128,\n",
    "    'n' : 100000,\n",
    "    'v' : 12,\n",
    "    'br' : 10000\n",
    "})\n",
    "data['dirawat'].append({  \n",
    "    'tabel' : [\"id_dirawat\",\"tgl_dirawat\", \"status\", \"periode\"],\n",
    "    'r' : 250,\n",
    "    'n' : 15000,\n",
    "    'v' : 6,\n",
    "    'br' : 1000\n",
    "})\n",
    "data['fasilitas'].append({  \n",
    "    'tabel' : [\"no_inventaris\", \"nama\", \"jenis\", \"tgl_dibeli\", \"pemakaian\"],\n",
    "    'r' : 150,\n",
    "    'n' : 12500,\n",
    "    'v' : 8,\n",
    "    'br' : 1000\n",
    "})\n",
    "\n",
    "with open('datatry.json', 'w') as outfile:  \n",
    "    json.dump(data, outfile)"
   ]
  },
  {
   "cell_type": "code",
   "execution_count": 11,
   "metadata": {},
   "outputs": [
    {
     "name": "stdout",
     "output_type": "stream",
     "text": [
      "['no_ktp', 'tgl_lahir', 'gender', 'pendidikan']\n"
     ]
    }
   ],
   "source": [
    "# read file\n",
    "with open('datatry.json') as json_file:  \n",
    "    data = json.load(json_file)\n",
    "\n",
    "print(data['pegawai'][0]['tabel'])"
   ]
  },
  {
   "cell_type": "code",
   "execution_count": 12,
   "metadata": {},
   "outputs": [
    {
     "name": "stdout",
     "output_type": "stream",
     "text": [
      "Menu 1 : BFR dan Fan Out Ratio\n",
      "\n",
      "BFR Pegawai :  63\n",
      "Fan Out Rasio Pegawai :  505\n",
      "BFR Pegawai :  32\n",
      "Fan Out Rasio Dirawat :  809\n",
      "BFR Pegawai :  53\n",
      "Fan Out Rasio Dirawat :  674\n"
     ]
    }
   ],
   "source": [
    "print('Menu 1 : BFR dan Fan Out Ratio')\n",
    "print('')\n",
    "\n",
    "bfr_p = math.floor(data['b'] / data['pegawai'][0]['r'])\n",
    "for_p = math.floor(data['b'] / (data['pegawai'][0]['v'] + data['p']))\n",
    "print('BFR Pegawai : ', bfr_p)\n",
    "print('Fan Out Rasio Pegawai : ', for_p)\n",
    "\n",
    "bfr_d = math.floor(data['b'] / data['dirawat'][0]['r'])\n",
    "for_d = math.floor(data['b'] / (data['dirawat'][0]['v'] + data['p']))\n",
    "print('BFR Pegawai : ', bfr_d)\n",
    "print('Fan Out Rasio Dirawat : ' , for_d)\n",
    "\n",
    "bfr_f = math.floor(data['b'] / data['fasilitas'][0]['r'])\n",
    "for_f = math.floor(data['b'] / (data['fasilitas'][0]['v'] + data['p']))\n",
    "print('BFR Pegawai : ', bfr_f)\n",
    "print('Fan Out Rasio Dirawat : ', for_f)"
   ]
  },
  {
   "cell_type": "code",
   "execution_count": 13,
   "metadata": {},
   "outputs": [
    {
     "name": "stdout",
     "output_type": "stream",
     "text": [
      "Menu 2 : Jumlah Blok\n",
      "\n",
      "Tabel Data Pegawai : 1588  blok\n",
      "Indeks Pegawai : 199  blok\n",
      "Tabel Data Dirawat : 469  blok\n",
      "Indeks Dirawat: 19  blok\n",
      "Tabel Data Fasilitas : 236  blok\n",
      "Indeks Fasilitas : 19  blok\n"
     ]
    }
   ],
   "source": [
    "print('Menu 2 : Jumlah Blok')\n",
    "print('')\n",
    "\n",
    "tabel_p = math.ceil(data['pegawai'][0]['n'] / bfr_p)\n",
    "idx_p = math.ceil(data['pegawai'][0]['n'] / for_p)\n",
    "print('Tabel Data Pegawai :', tabel_p, ' blok')\n",
    "print('Indeks Pegawai :', idx_p, ' blok')\n",
    "\n",
    "tabel_d = math.ceil(data['dirawat'][0]['n'] / bfr_d)\n",
    "idx_d = math.ceil(data['dirawat'][0]['n'] / for_d)\n",
    "print('Tabel Data Dirawat :', tabel_d, ' blok')\n",
    "print('Indeks Dirawat:', idx_d, ' blok')\n",
    "\n",
    "tabel_f = math.ceil(data['fasilitas'][0]['n'] / bfr_f)\n",
    "idx_f = math.ceil(data['fasilitas'][0]['n'] / for_f)\n",
    "print('Tabel Data Fasilitas :', tabel_f, ' blok')\n",
    "print('Indeks Fasilitas :', idx_f, ' blok')"
   ]
  },
  {
   "cell_type": "code",
   "execution_count": 14,
   "metadata": {},
   "outputs": [
    {
     "name": "stdout",
     "output_type": "stream",
     "text": [
      "Menu 3 : Pencarian Rekord\n",
      "\n",
      "Cari Rekord ke : 300\n",
      "Nama Tabel : pegawai\n",
      "Menggunakan indeks, jumlah blok yang diakses :  record tidak tersedia\n",
      "Tanpa indeks, jumlah blok yang diakses :  record tidak tersedia\n"
     ]
    }
   ],
   "source": [
    "print('Menu 3 : Pencarian Rekord')\n",
    "print('')\n",
    "\n",
    "def fanoutRasio(tabel):\n",
    "    return math.floor(data['b'] / (data[tabel][0]['v'] + data['p']))\n",
    "\n",
    "def blockingFactor(t):\n",
    "    return math.floor(data['b'] / data[t][0]['r'])\n",
    "\n",
    "def jumBlokIndeks(r, t):\n",
    "    if (r>data[t][0]['r']):\n",
    "        return 'record tidak tersedia'\n",
    "    else :\n",
    "        fanout = fanoutRasio(t)\n",
    "        return math.ceil(r / fanout)\n",
    "\n",
    "def jumBlokNonIndeks(r, t):\n",
    "    if (r>data[t][0]['r']):\n",
    "        return 'record tidak tersedia'\n",
    "    else :\n",
    "        bfr = blockingFactor(t)\n",
    "        return math.ceil(r / bfr)\n",
    "    \n",
    "\n",
    "rekord = int(input(\"Cari Rekord ke : \"))\n",
    "tabel = input(\"Nama Tabel : \")\n",
    "\n",
    "blok_i = jumBlokIndeks(rekord, tabel)\n",
    "\n",
    "print ('Menggunakan indeks, jumlah blok yang diakses : ', blok_i)\n",
    "print ('Tanpa indeks, jumlah blok yang diakses : ', jumBlokNonIndeks(rekord, tabel))"
   ]
  },
  {
   "cell_type": "code",
   "execution_count": 15,
   "metadata": {},
   "outputs": [
    {
     "name": "stdout",
     "output_type": "stream",
     "text": [
      "Menu 4 : QEP dan COST\n",
      "\n",
      "PROJECTION no_inventaris , nama\n",
      "SELECTION no_inventaris = 1\n",
      "fasilitas\n",
      "500.0\n",
      "10010000\n"
     ]
    }
   ],
   "source": [
    "print('Menu 4 : QEP dan COST')\n",
    "print('')\n",
    "\n",
    "#qep where\n",
    "array_query = {}\n",
    "array_query['kolom'] = ['no_inventaris','nama']\n",
    "array_query['tabel'] = ['fasilitas']\n",
    "array_query['where'] = ['no_inventaris = 1']\n",
    "def qep(query):\n",
    "    if (query['kolom'][0] != '*'):\n",
    "        return { \n",
    "            'projection' : query['kolom'],\n",
    "            'selection' : query['where'],\n",
    "            'tabel' : query['tabel']\n",
    "        }\n",
    "    else:\n",
    "        return {\n",
    "            'selection' : query['where'],\n",
    "            'tabel' : query['tabel']\n",
    "        }\n",
    "\n",
    "#cost where, diisi ya geng hehe\n",
    "def costA1nkey(t):\n",
    "    return data[t][0]['br']\n",
    "\n",
    "def costA1key(t):\n",
    "    return data[t][0]['br']/2\n",
    "\n",
    "def costA2(t):\n",
    "    return math.ceil(math.log(data[t][0]['br'],fanoutRasio(t))) + 1\n",
    "\n",
    "def costBNLJ(inner,outer):\n",
    "    return data[inner][0]['br']*data[outer][0]['br'] + data[outer][0]['br']\n",
    "\n",
    "#qep join, diisi ya geng hehe\n",
    "\n",
    "#cost join, diisi ya geng hehe\n",
    "\n",
    "#tes qep where\n",
    "if(array_query['kolom'][0]!='*'):\n",
    "    print('PROJECTION', qep(array_query)['projection'][0], ',' , qep(array_query)['projection'][1])\n",
    "print('SELECTION', qep(array_query)['selection'][0])\n",
    "print(qep(array_query)['tabel'][0])\n",
    "\n",
    "h = costA1key(array_query['tabel'][0])\n",
    "print(h)\n",
    "print(costBNLJ('fasilitas','pegawai'))"
   ]
  }
 ],
 "metadata": {
  "kernelspec": {
   "display_name": "Python 3",
   "language": "python",
   "name": "python3"
  },
  "language_info": {
   "codemirror_mode": {
    "name": "ipython",
    "version": 3
   },
   "file_extension": ".py",
   "mimetype": "text/x-python",
   "name": "python",
   "nbconvert_exporter": "python",
   "pygments_lexer": "ipython3",
   "version": "3.7.1"
  }
 },
 "nbformat": 4,
 "nbformat_minor": 2
}
